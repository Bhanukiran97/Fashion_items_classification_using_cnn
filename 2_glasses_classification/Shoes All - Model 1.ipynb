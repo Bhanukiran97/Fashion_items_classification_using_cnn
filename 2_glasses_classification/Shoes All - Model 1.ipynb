{
 "cells": [
  {
   "cell_type": "code",
   "execution_count": 1,
   "metadata": {},
   "outputs": [],
   "source": [
    "import io\n",
    "import itertools\n",
    "\n",
    "import numpy as np\n",
    "import sklearn.metrics\n",
    "\n",
    "import tensorflow as tf\n",
    "from tensorboard.plugins.hparams import api as hp\n",
    "\n",
    "import matplotlib.pyplot as plt"
   ]
  },
  {
   "cell_type": "code",
   "execution_count": 2,
   "metadata": {},
   "outputs": [],
   "source": [
    "# Loading the datasets\n",
    "data_train = np.load(r\"Dataset/Glasses & Sunglasses - Train.npz\")\n",
    "data_val = np.load(r\"Dataset/Glasses & Sunglasses - Validation.npz\")\n",
    "data_test = np.load(r\"Dataset/Glasses & Sunglasses - Test.npz\")"
   ]
  },
  {
   "cell_type": "code",
   "execution_count": 4,
   "metadata": {},
   "outputs": [],
   "source": [
    "# Extracting the arrays from the imported data\n",
    "images_train = data_train['images']\n",
    "labels_train = data_train['labels']\n",
    "\n",
    "images_val = data_val['images']\n",
    "labels_val = data_val['labels']\n",
    "\n",
    "images_test = data_test['images']\n",
    "labels_test = data_test['labels']"
   ]
  },
  {
   "cell_type": "code",
   "execution_count": 5,
   "metadata": {},
   "outputs": [],
   "source": [
    "# Scaling the pixel values of all images\n",
    "images_train = images_train/255.0\n",
    "images_val = images_val/255.0\n",
    "images_test = images_test/255.0"
   ]
  },
  {
   "cell_type": "code",
   "execution_count": 6,
   "metadata": {},
   "outputs": [],
   "source": [
    "# Defining constants\n",
    "EPOCHS = 15\n",
    "BATCH_SIZE = 64"
   ]
  },
  {
   "cell_type": "code",
   "execution_count": 7,
   "metadata": {},
   "outputs": [],
   "source": [
    "# Defining the hyperparameters we would tune, and their values to be tested\n",
    "HP_FILTER_SIZE = hp.HParam('filter_size', hp.Discrete([3,5,7]))\n",
    "HP_FILTER_NUM = hp.HParam('filters_number', hp.Discrete([32,64,96,128]))\n",
    "\n",
    "METRIC_ACCURACY = 'accuracy'\n",
    "\n",
    "# Logging setup info\n",
    "with tf.summary.create_file_writer(r'Logs/Model 1/hparam_tuning/').as_default():\n",
    "    hp.hparams_config(\n",
    "        hparams=[HP_FILTER_SIZE, HP_FILTER_NUM],\n",
    "        metrics=[hp.Metric(METRIC_ACCURACY, display_name='Accuracy')],\n",
    "    )"
   ]
  },
  {
   "cell_type": "code",
   "execution_count": null,
   "metadata": {},
   "outputs": [],
   "source": []
  },
  {
   "cell_type": "code",
   "execution_count": 8,
   "metadata": {},
   "outputs": [],
   "source": [
    "# Wrapping our model and training in a function\n",
    "def train_test_model(hparams, session_num):\n",
    "    \n",
    "    # Outlining the model/architecture of our CNN\n",
    "    model = tf.keras.Sequential([\n",
    "        tf.keras.layers.Conv2D(hparams[HP_FILTER_NUM], hparams[HP_FILTER_SIZE], activation='relu', input_shape=(120,90,3)),\n",
    "        tf.keras.layers.MaxPooling2D(pool_size=(2,2)),\n",
    "        tf.keras.layers.Conv2D(hparams[HP_FILTER_NUM], 3, activation='relu'),\n",
    "        tf.keras.layers.MaxPooling2D(pool_size=(2,2)),\n",
    "        tf.keras.layers.Flatten(),\n",
    "        tf.keras.layers.Dense(3)\n",
    "    ])\n",
    "    \n",
    "    # Defining the loss function\n",
    "    loss_fn = tf.keras.losses.SparseCategoricalCrossentropy(from_logits=True)\n",
    "\n",
    "    # Compiling the model\n",
    "    model.compile(optimizer='adam', loss=loss_fn, metrics=['accuracy'])\n",
    "\n",
    "    # Defining the logging directory\n",
    "    log_dir = \"Logs\\\\Model 1\\\\fit\\\\\" + \"run-{}\".format(session_num)\n",
    "    \n",
    "    \n",
    "    def plot_confusion_matrix(cm, class_names):\n",
    "        \"\"\"\n",
    "        Returns a matplotlib figure containing the plotted confusion matrix.\n",
    "\n",
    "        Args:\n",
    "          cm (array, shape = [n, n]): a confusion matrix of integer classes\n",
    "          class_names (array, shape = [n]): String names of the integer classes\n",
    "        \"\"\"\n",
    "        figure = plt.figure(figsize=(12, 12))\n",
    "        plt.imshow(cm, interpolation='nearest', cmap=plt.cm.Blues)\n",
    "        plt.title(\"Confusion matrix\")\n",
    "        plt.colorbar()\n",
    "        tick_marks = np.arange(len(class_names))\n",
    "        plt.xticks(tick_marks, class_names, rotation=45)\n",
    "        plt.yticks(tick_marks, class_names)\n",
    "\n",
    "        # Normalize the confusion matrix.\n",
    "        cm = np.around(cm.astype('float') / cm.sum(axis=1)[:, np.newaxis], decimals=2)\n",
    "\n",
    "        # Use white text if squares are dark; otherwise black.\n",
    "        threshold = cm.max() / 2.\n",
    "        for i, j in itertools.product(range(cm.shape[0]), range(cm.shape[1])):\n",
    "            color = \"white\" if cm[i, j] > threshold else \"black\"\n",
    "            plt.text(j, i, cm[i, j], horizontalalignment=\"center\", color=color)\n",
    "\n",
    "        plt.tight_layout()\n",
    "        plt.ylabel('True label')\n",
    "        plt.xlabel('Predicted label')\n",
    "        return figure\n",
    "    \n",
    "    \n",
    "    \n",
    "    def plot_to_image(figure):\n",
    "        \"\"\"Converts the matplotlib plot specified by 'figure' to a PNG image and\n",
    "        returns it. The supplied figure is closed and inaccessible after this call.\"\"\"\n",
    "        # Save the plot to a PNG in memory.\n",
    "        buf = io.BytesIO()\n",
    "        plt.savefig(buf, format='png')\n",
    "        # Closing the figure prevents it from being displayed directly inside\n",
    "        # the notebook.\n",
    "        plt.close(figure)\n",
    "        buf.seek(0)\n",
    "        # Convert PNG buffer to TF image\n",
    "        image = tf.image.decode_png(buf.getvalue(), channels=4)\n",
    "        # Add the batch dimension\n",
    "        image = tf.expand_dims(image, 0)\n",
    "        return image\n",
    "    \n",
    "    \n",
    "    # Defining a file writer for Confusion Matrix logging purposes\n",
    "    file_writer_cm = tf.summary.create_file_writer(log_dir + '/cm')     \n",
    "    \n",
    "    \n",
    "    def log_confusion_matrix(epoch, logs):\n",
    "        # Use the model to predict the values from the validation dataset.\n",
    "        test_pred_raw = model.predict(images_val)\n",
    "        test_pred = np.argmax(test_pred_raw, axis=1)\n",
    "\n",
    "        # Calculate the confusion matrix.\n",
    "        cm = sklearn.metrics.confusion_matrix(labels_val, test_pred)\n",
    "        # Log the confusion matrix as an image summary.\n",
    "        figure = plot_confusion_matrix(cm, class_names=['Optical Glasses', 'Sunglasses'])\n",
    "        cm_image = plot_to_image(figure)\n",
    "\n",
    "        # Log the confusion matrix as an image summary.\n",
    "        with file_writer_cm.as_default():\n",
    "            tf.summary.image(\"Confusion Matrix\", cm_image, step=epoch)\n",
    "    \n",
    "    \n",
    "    \n",
    "    # Define the Tensorboard and Confusion Matrix callbacks.\n",
    "    tensorboard_callback = tf.keras.callbacks.TensorBoard(log_dir=log_dir, histogram_freq=1, profile_batch=0)\n",
    "    cm_callback = tf.keras.callbacks.LambdaCallback(on_epoch_end=log_confusion_matrix)\n",
    "\n",
    "    \n",
    "    # Defining early stopping to prevent overfitting\n",
    "    early_stopping = tf.keras.callbacks.EarlyStopping(\n",
    "        monitor = 'val_loss',\n",
    "        mode = 'auto',\n",
    "        min_delta = 0,\n",
    "        patience = 2,\n",
    "        verbose = 0, \n",
    "        restore_best_weights = True\n",
    "    )\n",
    "    \n",
    "    # Training the model\n",
    "    model.fit(\n",
    "        images_train,\n",
    "        labels_train,\n",
    "        epochs = EPOCHS,\n",
    "        batch_size = BATCH_SIZE,\n",
    "        callbacks = [tensorboard_callback, cm_callback, early_stopping],\n",
    "        validation_data = (images_val,labels_val),\n",
    "        verbose = 2\n",
    "    )\n",
    "    \n",
    "    \n",
    "    # Evaluating the model's performance on the validation set\n",
    "    _, accuracy = model.evaluate(images_val,labels_val)\n",
    "    \n",
    "    # Saving the current model for future reference\n",
    "    model.save(r\"saved_models\\Model 1\\Run-{}\".format(session_num))\n",
    "    \n",
    "    return accuracy"
   ]
  },
  {
   "cell_type": "code",
   "execution_count": 9,
   "metadata": {},
   "outputs": [],
   "source": [
    "# Creating a function to log the resuls\n",
    "def run(log_dir, hparams, session_num):\n",
    "    \n",
    "    with tf.summary.create_file_writer(log_dir).as_default():\n",
    "        hp.hparams(hparams)  # record the values used in this trial\n",
    "        accuracy = train_test_model(hparams, session_num)\n",
    "        tf.summary.scalar(METRIC_ACCURACY, accuracy, step=1)"
   ]
  },
  {
   "cell_type": "code",
   "execution_count": 10,
   "metadata": {
    "scrolled": false
   },
   "outputs": [
    {
     "name": "stdout",
     "output_type": "stream",
     "text": [
      "--- Starting trial: run-1\n",
      "{'filter_size': 3, 'filters_number': 32}\n",
      "Epoch 1/15\n",
      "16/16 [==============================] - 1s 51ms/step\n",
      "63/63 - 25s - loss: 0.3346 - accuracy: 0.8666 - val_loss: 0.1960 - val_accuracy: 0.9540 - 25s/epoch - 399ms/step\n",
      "Epoch 2/15\n",
      "16/16 [==============================] - 1s 51ms/step\n",
      "63/63 - 22s - loss: 0.1865 - accuracy: 0.9368 - val_loss: 0.2350 - val_accuracy: 0.9140 - 22s/epoch - 350ms/step\n",
      "Epoch 3/15\n",
      "16/16 [==============================] - 1s 50ms/step\n",
      "63/63 - 22s - loss: 0.1388 - accuracy: 0.9588 - val_loss: 0.1997 - val_accuracy: 0.9540 - 22s/epoch - 350ms/step\n",
      "16/16 [==============================] - 1s 51ms/step - loss: 0.1960 - accuracy: 0.9540\n"
     ]
    },
    {
     "name": "stderr",
     "output_type": "stream",
     "text": [
      "WARNING:absl:Found untraced functions such as _jit_compiled_convolution_op, _jit_compiled_convolution_op while saving (showing 2 of 2). These functions will not be directly callable after loading.\n"
     ]
    },
    {
     "name": "stdout",
     "output_type": "stream",
     "text": [
      "INFO:tensorflow:Assets written to: saved_models\\Model 1\\Run-1\\assets\n"
     ]
    },
    {
     "name": "stderr",
     "output_type": "stream",
     "text": [
      "INFO:tensorflow:Assets written to: saved_models\\Model 1\\Run-1\\assets\n"
     ]
    },
    {
     "name": "stdout",
     "output_type": "stream",
     "text": [
      "--- Starting trial: run-2\n",
      "{'filter_size': 3, 'filters_number': 64}\n",
      "Epoch 1/15\n",
      "16/16 [==============================] - 2s 92ms/step\n",
      "63/63 - 58s - loss: 0.4163 - accuracy: 0.8053 - val_loss: 0.1960 - val_accuracy: 0.9440 - 58s/epoch - 921ms/step\n",
      "Epoch 2/15\n",
      "16/16 [==============================] - 2s 95ms/step\n",
      "63/63 - 57s - loss: 0.1495 - accuracy: 0.9495 - val_loss: 0.2062 - val_accuracy: 0.9420 - 57s/epoch - 904ms/step\n",
      "Epoch 3/15\n",
      "16/16 [==============================] - 2s 100ms/step\n",
      "63/63 - 53s - loss: 0.1433 - accuracy: 0.9558 - val_loss: 0.1915 - val_accuracy: 0.9520 - 53s/epoch - 846ms/step\n",
      "Epoch 4/15\n",
      "16/16 [==============================] - 2s 118ms/step\n",
      "63/63 - 56s - loss: 0.1333 - accuracy: 0.9610 - val_loss: 0.2038 - val_accuracy: 0.9500 - 56s/epoch - 894ms/step\n",
      "Epoch 5/15\n",
      "16/16 [==============================] - 2s 101ms/step\n",
      "63/63 - 57s - loss: 0.1292 - accuracy: 0.9630 - val_loss: 0.1905 - val_accuracy: 0.9620 - 57s/epoch - 906ms/step\n",
      "Epoch 6/15\n",
      "16/16 [==============================] - 2s 99ms/step\n",
      "63/63 - 59s - loss: 0.1232 - accuracy: 0.9633 - val_loss: 0.2161 - val_accuracy: 0.9500 - 59s/epoch - 931ms/step\n",
      "Epoch 7/15\n",
      "16/16 [==============================] - 2s 97ms/step\n",
      "63/63 - 53s - loss: 0.1194 - accuracy: 0.9665 - val_loss: 0.2015 - val_accuracy: 0.9620 - 53s/epoch - 842ms/step\n",
      "16/16 [==============================] - 2s 94ms/step - loss: 0.1905 - accuracy: 0.9620\n"
     ]
    },
    {
     "name": "stderr",
     "output_type": "stream",
     "text": [
      "WARNING:absl:Found untraced functions such as _jit_compiled_convolution_op, _jit_compiled_convolution_op while saving (showing 2 of 2). These functions will not be directly callable after loading.\n"
     ]
    },
    {
     "name": "stdout",
     "output_type": "stream",
     "text": [
      "INFO:tensorflow:Assets written to: saved_models\\Model 1\\Run-2\\assets\n"
     ]
    },
    {
     "name": "stderr",
     "output_type": "stream",
     "text": [
      "INFO:tensorflow:Assets written to: saved_models\\Model 1\\Run-2\\assets\n"
     ]
    },
    {
     "name": "stdout",
     "output_type": "stream",
     "text": [
      "--- Starting trial: run-3\n",
      "{'filter_size': 3, 'filters_number': 96}\n",
      "Epoch 1/15\n",
      "16/16 [==============================] - 3s 155ms/step\n",
      "63/63 - 116s - loss: 0.3766 - accuracy: 0.8136 - val_loss: 0.2218 - val_accuracy: 0.9520 - 116s/epoch - 2s/step\n",
      "Epoch 2/15\n",
      "16/16 [==============================] - 3s 208ms/step\n",
      "63/63 - 106s - loss: 0.1571 - accuracy: 0.9495 - val_loss: 0.2054 - val_accuracy: 0.9480 - 106s/epoch - 2s/step\n",
      "Epoch 3/15\n",
      "16/16 [==============================] - 3s 186ms/step\n",
      "63/63 - 96s - loss: 0.1393 - accuracy: 0.9578 - val_loss: 0.1956 - val_accuracy: 0.9500 - 96s/epoch - 2s/step\n",
      "Epoch 4/15\n",
      "16/16 [==============================] - 3s 191ms/step\n",
      "63/63 - 97s - loss: 0.1307 - accuracy: 0.9608 - val_loss: 0.2191 - val_accuracy: 0.9400 - 97s/epoch - 2s/step\n",
      "Epoch 5/15\n",
      "16/16 [==============================] - 3s 160ms/step\n",
      "63/63 - 89s - loss: 0.1282 - accuracy: 0.9630 - val_loss: 0.2045 - val_accuracy: 0.9620 - 89s/epoch - 1s/step\n",
      "16/16 [==============================] - 2s 146ms/step - loss: 0.1956 - accuracy: 0.9500\n"
     ]
    },
    {
     "name": "stderr",
     "output_type": "stream",
     "text": [
      "WARNING:absl:Found untraced functions such as _jit_compiled_convolution_op, _jit_compiled_convolution_op while saving (showing 2 of 2). These functions will not be directly callable after loading.\n"
     ]
    },
    {
     "name": "stdout",
     "output_type": "stream",
     "text": [
      "INFO:tensorflow:Assets written to: saved_models\\Model 1\\Run-3\\assets\n"
     ]
    },
    {
     "name": "stderr",
     "output_type": "stream",
     "text": [
      "INFO:tensorflow:Assets written to: saved_models\\Model 1\\Run-3\\assets\n"
     ]
    },
    {
     "name": "stdout",
     "output_type": "stream",
     "text": [
      "--- Starting trial: run-4\n",
      "{'filter_size': 3, 'filters_number': 128}\n",
      "Epoch 1/15\n",
      "16/16 [==============================] - 4s 245ms/step\n",
      "63/63 - 137s - loss: 0.4594 - accuracy: 0.7941 - val_loss: 0.2484 - val_accuracy: 0.9140 - 137s/epoch - 2s/step\n",
      "Epoch 2/15\n",
      "16/16 [==============================] - 4s 242ms/step\n",
      "63/63 - 124s - loss: 0.1582 - accuracy: 0.9493 - val_loss: 0.2034 - val_accuracy: 0.9540 - 124s/epoch - 2s/step\n",
      "Epoch 3/15\n",
      "16/16 [==============================] - 4s 260ms/step\n",
      "63/63 - 127s - loss: 0.1435 - accuracy: 0.9565 - val_loss: 0.2158 - val_accuracy: 0.9560 - 127s/epoch - 2s/step\n",
      "Epoch 4/15\n",
      "16/16 [==============================] - 4s 227ms/step\n",
      "63/63 - 1023s - loss: 0.1304 - accuracy: 0.9635 - val_loss: 0.1863 - val_accuracy: 0.9540 - 1023s/epoch - 16s/step\n",
      "Epoch 5/15\n",
      "16/16 [==============================] - 4s 249ms/step\n",
      "63/63 - 130s - loss: 0.1303 - accuracy: 0.9600 - val_loss: 0.1924 - val_accuracy: 0.9640 - 130s/epoch - 2s/step\n",
      "Epoch 6/15\n",
      "16/16 [==============================] - 5s 291ms/step\n",
      "63/63 - 125s - loss: 0.1353 - accuracy: 0.9588 - val_loss: 0.2492 - val_accuracy: 0.9160 - 125s/epoch - 2s/step\n",
      "16/16 [==============================] - 4s 232ms/step - loss: 0.1863 - accuracy: 0.9540\n"
     ]
    },
    {
     "name": "stderr",
     "output_type": "stream",
     "text": [
      "WARNING:absl:Found untraced functions such as _jit_compiled_convolution_op, _jit_compiled_convolution_op while saving (showing 2 of 2). These functions will not be directly callable after loading.\n"
     ]
    },
    {
     "name": "stdout",
     "output_type": "stream",
     "text": [
      "INFO:tensorflow:Assets written to: saved_models\\Model 1\\Run-4\\assets\n"
     ]
    },
    {
     "name": "stderr",
     "output_type": "stream",
     "text": [
      "INFO:tensorflow:Assets written to: saved_models\\Model 1\\Run-4\\assets\n"
     ]
    },
    {
     "name": "stdout",
     "output_type": "stream",
     "text": [
      "--- Starting trial: run-5\n",
      "{'filter_size': 5, 'filters_number': 32}\n",
      "Epoch 1/15\n",
      "16/16 [==============================] - 1s 54ms/step\n",
      "63/63 - 28s - loss: 0.4049 - accuracy: 0.8466 - val_loss: 0.2589 - val_accuracy: 0.9520 - 28s/epoch - 444ms/step\n",
      "Epoch 2/15\n",
      "16/16 [==============================] - 1s 54ms/step\n",
      "63/63 - 28s - loss: 0.1687 - accuracy: 0.9450 - val_loss: 0.2062 - val_accuracy: 0.9460 - 28s/epoch - 443ms/step\n",
      "Epoch 3/15\n",
      "16/16 [==============================] - 1s 54ms/step\n",
      "63/63 - 27s - loss: 0.1589 - accuracy: 0.9468 - val_loss: 0.2053 - val_accuracy: 0.9560 - 27s/epoch - 428ms/step\n",
      "Epoch 4/15\n",
      "16/16 [==============================] - 1s 55ms/step\n",
      "63/63 - 27s - loss: 0.1463 - accuracy: 0.9535 - val_loss: 0.2446 - val_accuracy: 0.9500 - 27s/epoch - 424ms/step\n",
      "Epoch 5/15\n",
      "16/16 [==============================] - 1s 54ms/step\n",
      "63/63 - 27s - loss: 0.1423 - accuracy: 0.9568 - val_loss: 0.2048 - val_accuracy: 0.9640 - 27s/epoch - 429ms/step\n",
      "Epoch 6/15\n",
      "16/16 [==============================] - 1s 55ms/step\n",
      "63/63 - 27s - loss: 0.1383 - accuracy: 0.9565 - val_loss: 0.1988 - val_accuracy: 0.9440 - 27s/epoch - 424ms/step\n",
      "Epoch 7/15\n",
      "16/16 [==============================] - 1s 81ms/step\n",
      "63/63 - 29s - loss: 0.1372 - accuracy: 0.9580 - val_loss: 0.2264 - val_accuracy: 0.9640 - 29s/epoch - 467ms/step\n",
      "Epoch 8/15\n",
      "16/16 [==============================] - 1s 53ms/step\n",
      "63/63 - 28s - loss: 0.1322 - accuracy: 0.9623 - val_loss: 0.1941 - val_accuracy: 0.9520 - 28s/epoch - 437ms/step\n",
      "Epoch 9/15\n",
      "16/16 [==============================] - 1s 55ms/step\n",
      "63/63 - 27s - loss: 0.1248 - accuracy: 0.9628 - val_loss: 0.2028 - val_accuracy: 0.9620 - 27s/epoch - 435ms/step\n",
      "Epoch 10/15\n",
      "16/16 [==============================] - 1s 54ms/step\n",
      "63/63 - 27s - loss: 0.1223 - accuracy: 0.9630 - val_loss: 0.2034 - val_accuracy: 0.9620 - 27s/epoch - 424ms/step\n",
      "16/16 [==============================] - 1s 55ms/step - loss: 0.1941 - accuracy: 0.9520\n"
     ]
    },
    {
     "name": "stderr",
     "output_type": "stream",
     "text": [
      "WARNING:absl:Found untraced functions such as _jit_compiled_convolution_op, _jit_compiled_convolution_op while saving (showing 2 of 2). These functions will not be directly callable after loading.\n"
     ]
    },
    {
     "name": "stdout",
     "output_type": "stream",
     "text": [
      "INFO:tensorflow:Assets written to: saved_models\\Model 1\\Run-5\\assets\n"
     ]
    },
    {
     "name": "stderr",
     "output_type": "stream",
     "text": [
      "INFO:tensorflow:Assets written to: saved_models\\Model 1\\Run-5\\assets\n"
     ]
    },
    {
     "name": "stdout",
     "output_type": "stream",
     "text": [
      "--- Starting trial: run-6\n",
      "{'filter_size': 5, 'filters_number': 64}\n",
      "Epoch 1/15\n",
      "16/16 [==============================] - 2s 99ms/step\n",
      "63/63 - 55s - loss: 0.3570 - accuracy: 0.8361 - val_loss: 0.3834 - val_accuracy: 0.8020 - 55s/epoch - 871ms/step\n",
      "Epoch 2/15\n",
      "16/16 [==============================] - 2s 101ms/step\n",
      "63/63 - 57s - loss: 0.1634 - accuracy: 0.9460 - val_loss: 0.2559 - val_accuracy: 0.9540 - 57s/epoch - 897ms/step\n",
      "Epoch 3/15\n",
      "16/16 [==============================] - 2s 100ms/step\n",
      "63/63 - 56s - loss: 0.1693 - accuracy: 0.9493 - val_loss: 0.2120 - val_accuracy: 0.9400 - 56s/epoch - 895ms/step\n",
      "Epoch 4/15\n",
      "16/16 [==============================] - 2s 101ms/step\n",
      "63/63 - 58s - loss: 0.1678 - accuracy: 0.9458 - val_loss: 0.2102 - val_accuracy: 0.9620 - 58s/epoch - 917ms/step\n",
      "Epoch 5/15\n",
      "16/16 [==============================] - 2s 100ms/step\n",
      "63/63 - 56s - loss: 0.1467 - accuracy: 0.9595 - val_loss: 0.1907 - val_accuracy: 0.9540 - 56s/epoch - 882ms/step\n",
      "Epoch 6/15\n",
      "16/16 [==============================] - 2s 120ms/step\n",
      "63/63 - 56s - loss: 0.1405 - accuracy: 0.9573 - val_loss: 0.2041 - val_accuracy: 0.9500 - 56s/epoch - 894ms/step\n",
      "Epoch 7/15\n",
      "16/16 [==============================] - 2s 100ms/step\n",
      "63/63 - 58s - loss: 0.1292 - accuracy: 0.9615 - val_loss: 0.1946 - val_accuracy: 0.9460 - 58s/epoch - 919ms/step\n",
      "16/16 [==============================] - 2s 114ms/step - loss: 0.1907 - accuracy: 0.9540\n"
     ]
    },
    {
     "name": "stderr",
     "output_type": "stream",
     "text": [
      "WARNING:absl:Found untraced functions such as _jit_compiled_convolution_op, _jit_compiled_convolution_op while saving (showing 2 of 2). These functions will not be directly callable after loading.\n"
     ]
    },
    {
     "name": "stdout",
     "output_type": "stream",
     "text": [
      "INFO:tensorflow:Assets written to: saved_models\\Model 1\\Run-6\\assets\n"
     ]
    },
    {
     "name": "stderr",
     "output_type": "stream",
     "text": [
      "INFO:tensorflow:Assets written to: saved_models\\Model 1\\Run-6\\assets\n"
     ]
    },
    {
     "name": "stdout",
     "output_type": "stream",
     "text": [
      "--- Starting trial: run-7\n",
      "{'filter_size': 5, 'filters_number': 96}\n",
      "Epoch 1/15\n",
      "16/16 [==============================] - 3s 168ms/step\n",
      "63/63 - 93s - loss: 0.4428 - accuracy: 0.8123 - val_loss: 0.2161 - val_accuracy: 0.9380 - 93s/epoch - 1s/step\n",
      "Epoch 2/15\n",
      "16/16 [==============================] - 3s 163ms/step\n",
      "63/63 - 102s - loss: 0.1545 - accuracy: 0.9503 - val_loss: 0.2144 - val_accuracy: 0.9460 - 102s/epoch - 2s/step\n",
      "Epoch 3/15\n",
      "16/16 [==============================] - 3s 172ms/step\n",
      "63/63 - 88s - loss: 0.1550 - accuracy: 0.9528 - val_loss: 0.2381 - val_accuracy: 0.9280 - 88s/epoch - 1s/step\n",
      "Epoch 4/15\n",
      "16/16 [==============================] - 3s 168ms/step\n",
      "63/63 - 85s - loss: 0.1574 - accuracy: 0.9498 - val_loss: 0.2469 - val_accuracy: 0.9260 - 85s/epoch - 1s/step\n",
      "16/16 [==============================] - 3s 159ms/step - loss: 0.2144 - accuracy: 0.9460\n"
     ]
    },
    {
     "name": "stderr",
     "output_type": "stream",
     "text": [
      "WARNING:absl:Found untraced functions such as _jit_compiled_convolution_op, _jit_compiled_convolution_op while saving (showing 2 of 2). These functions will not be directly callable after loading.\n"
     ]
    },
    {
     "name": "stdout",
     "output_type": "stream",
     "text": [
      "INFO:tensorflow:Assets written to: saved_models\\Model 1\\Run-7\\assets\n"
     ]
    },
    {
     "name": "stderr",
     "output_type": "stream",
     "text": [
      "INFO:tensorflow:Assets written to: saved_models\\Model 1\\Run-7\\assets\n"
     ]
    },
    {
     "name": "stdout",
     "output_type": "stream",
     "text": [
      "--- Starting trial: run-8\n",
      "{'filter_size': 5, 'filters_number': 128}\n",
      "Epoch 1/15\n",
      "16/16 [==============================] - 5s 273ms/step\n",
      "63/63 - 131s - loss: 0.4544 - accuracy: 0.8026 - val_loss: 0.2302 - val_accuracy: 0.9600 - 131s/epoch - 2s/step\n",
      "Epoch 2/15\n",
      "16/16 [==============================] - 4s 275ms/step\n",
      "63/63 - 137s - loss: 0.1713 - accuracy: 0.9428 - val_loss: 0.3383 - val_accuracy: 0.8860 - 137s/epoch - 2s/step\n",
      "Epoch 3/15\n",
      "16/16 [==============================] - 4s 276ms/step\n",
      "63/63 - 138s - loss: 0.1821 - accuracy: 0.9390 - val_loss: 0.2573 - val_accuracy: 0.9360 - 138s/epoch - 2s/step\n",
      "16/16 [==============================] - 4s 262ms/step - loss: 0.2302 - accuracy: 0.9600\n"
     ]
    },
    {
     "name": "stderr",
     "output_type": "stream",
     "text": [
      "WARNING:absl:Found untraced functions such as _jit_compiled_convolution_op, _jit_compiled_convolution_op while saving (showing 2 of 2). These functions will not be directly callable after loading.\n"
     ]
    },
    {
     "name": "stdout",
     "output_type": "stream",
     "text": [
      "INFO:tensorflow:Assets written to: saved_models\\Model 1\\Run-8\\assets\n"
     ]
    },
    {
     "name": "stderr",
     "output_type": "stream",
     "text": [
      "INFO:tensorflow:Assets written to: saved_models\\Model 1\\Run-8\\assets\n"
     ]
    },
    {
     "name": "stdout",
     "output_type": "stream",
     "text": [
      "--- Starting trial: run-9\n",
      "{'filter_size': 7, 'filters_number': 32}\n",
      "Epoch 1/15\n",
      "16/16 [==============================] - 1s 72ms/step\n",
      "63/63 - 37s - loss: 0.3782 - accuracy: 0.8226 - val_loss: 0.2325 - val_accuracy: 0.9580 - 37s/epoch - 580ms/step\n",
      "Epoch 2/15\n",
      "16/16 [==============================] - 1s 72ms/step\n",
      "63/63 - 37s - loss: 0.1809 - accuracy: 0.9383 - val_loss: 0.2336 - val_accuracy: 0.9580 - 37s/epoch - 580ms/step\n",
      "Epoch 3/15\n",
      "16/16 [==============================] - 1s 69ms/step\n",
      "63/63 - 36s - loss: 0.1460 - accuracy: 0.9578 - val_loss: 0.2142 - val_accuracy: 0.9620 - 36s/epoch - 576ms/step\n",
      "Epoch 4/15\n",
      "16/16 [==============================] - 1s 72ms/step\n",
      "63/63 - 39s - loss: 0.1338 - accuracy: 0.9638 - val_loss: 0.2025 - val_accuracy: 0.9600 - 39s/epoch - 620ms/step\n",
      "Epoch 5/15\n",
      "16/16 [==============================] - 1s 70ms/step\n",
      "63/63 - 41s - loss: 0.1371 - accuracy: 0.9573 - val_loss: 0.2040 - val_accuracy: 0.9620 - 41s/epoch - 645ms/step\n",
      "Epoch 6/15\n",
      "16/16 [==============================] - 1s 67ms/step\n",
      "63/63 - 44s - loss: 0.1332 - accuracy: 0.9603 - val_loss: 0.1903 - val_accuracy: 0.9480 - 44s/epoch - 704ms/step\n",
      "Epoch 7/15\n",
      "16/16 [==============================] - 1s 66ms/step\n",
      "63/63 - 37s - loss: 0.1340 - accuracy: 0.9603 - val_loss: 0.1957 - val_accuracy: 0.9660 - 37s/epoch - 585ms/step\n",
      "Epoch 8/15\n",
      "16/16 [==============================] - 1s 71ms/step\n",
      "63/63 - 38s - loss: 0.1271 - accuracy: 0.9628 - val_loss: 0.1913 - val_accuracy: 0.9640 - 38s/epoch - 597ms/step\n",
      "16/16 [==============================] - 1s 67ms/step - loss: 0.1903 - accuracy: 0.9480\n"
     ]
    },
    {
     "name": "stderr",
     "output_type": "stream",
     "text": [
      "WARNING:absl:Found untraced functions such as _jit_compiled_convolution_op, _jit_compiled_convolution_op while saving (showing 2 of 2). These functions will not be directly callable after loading.\n"
     ]
    },
    {
     "name": "stdout",
     "output_type": "stream",
     "text": [
      "INFO:tensorflow:Assets written to: saved_models\\Model 1\\Run-9\\assets\n"
     ]
    },
    {
     "name": "stderr",
     "output_type": "stream",
     "text": [
      "INFO:tensorflow:Assets written to: saved_models\\Model 1\\Run-9\\assets\n"
     ]
    },
    {
     "name": "stdout",
     "output_type": "stream",
     "text": [
      "--- Starting trial: run-10\n",
      "{'filter_size': 7, 'filters_number': 64}\n",
      "Epoch 1/15\n",
      "16/16 [==============================] - 2s 126ms/step\n",
      "63/63 - 76s - loss: 0.3753 - accuracy: 0.8346 - val_loss: 0.2443 - val_accuracy: 0.9580 - 76s/epoch - 1s/step\n",
      "Epoch 2/15\n",
      "16/16 [==============================] - 2s 137ms/step\n",
      "63/63 - 73s - loss: 0.1542 - accuracy: 0.9513 - val_loss: 0.2474 - val_accuracy: 0.9640 - 73s/epoch - 1s/step\n",
      "Epoch 3/15\n",
      "16/16 [==============================] - 2s 113ms/step\n",
      "63/63 - 77s - loss: 0.1627 - accuracy: 0.9490 - val_loss: 0.1985 - val_accuracy: 0.9580 - 77s/epoch - 1s/step\n",
      "Epoch 4/15\n",
      "16/16 [==============================] - 2s 120ms/step\n",
      "63/63 - 78s - loss: 0.1445 - accuracy: 0.9563 - val_loss: 0.1907 - val_accuracy: 0.9540 - 78s/epoch - 1s/step\n",
      "Epoch 5/15\n",
      "16/16 [==============================] - 3s 186ms/step\n",
      "63/63 - 76s - loss: 0.1369 - accuracy: 0.9615 - val_loss: 0.1954 - val_accuracy: 0.9600 - 76s/epoch - 1s/step\n",
      "Epoch 6/15\n",
      "16/16 [==============================] - 2s 154ms/step\n",
      "63/63 - 74s - loss: 0.1299 - accuracy: 0.9618 - val_loss: 0.1853 - val_accuracy: 0.9660 - 74s/epoch - 1s/step\n",
      "Epoch 7/15\n",
      "16/16 [==============================] - 2s 114ms/step\n",
      "63/63 - 72s - loss: 0.1234 - accuracy: 0.9638 - val_loss: 0.2292 - val_accuracy: 0.9360 - 72s/epoch - 1s/step\n",
      "Epoch 8/15\n",
      "16/16 [==============================] - 2s 132ms/step\n",
      "63/63 - 66s - loss: 0.1261 - accuracy: 0.9608 - val_loss: 0.2038 - val_accuracy: 0.9560 - 66s/epoch - 1s/step\n",
      "16/16 [==============================] - 2s 115ms/step - loss: 0.1853 - accuracy: 0.9660\n"
     ]
    },
    {
     "name": "stderr",
     "output_type": "stream",
     "text": [
      "WARNING:absl:Found untraced functions such as _jit_compiled_convolution_op, _jit_compiled_convolution_op while saving (showing 2 of 2). These functions will not be directly callable after loading.\n"
     ]
    },
    {
     "name": "stdout",
     "output_type": "stream",
     "text": [
      "INFO:tensorflow:Assets written to: saved_models\\Model 1\\Run-10\\assets\n"
     ]
    },
    {
     "name": "stderr",
     "output_type": "stream",
     "text": [
      "INFO:tensorflow:Assets written to: saved_models\\Model 1\\Run-10\\assets\n"
     ]
    },
    {
     "name": "stdout",
     "output_type": "stream",
     "text": [
      "--- Starting trial: run-11\n",
      "{'filter_size': 7, 'filters_number': 96}\n",
      "Epoch 1/15\n",
      "16/16 [==============================] - 3s 179ms/step\n",
      "63/63 - 99s - loss: 0.4677 - accuracy: 0.7906 - val_loss: 0.2266 - val_accuracy: 0.9540 - 99s/epoch - 2s/step\n",
      "Epoch 2/15\n",
      "16/16 [==============================] - 3s 203ms/step\n",
      "63/63 - 100s - loss: 0.1727 - accuracy: 0.9448 - val_loss: 0.2040 - val_accuracy: 0.9400 - 100s/epoch - 2s/step\n",
      "Epoch 3/15\n",
      "16/16 [==============================] - 3s 214ms/step\n",
      "63/63 - 107s - loss: 0.1607 - accuracy: 0.9510 - val_loss: 0.3107 - val_accuracy: 0.8900 - 107s/epoch - 2s/step\n",
      "Epoch 4/15\n",
      "16/16 [==============================] - 4s 267ms/step\n",
      "63/63 - 110s - loss: 0.1504 - accuracy: 0.9570 - val_loss: 0.2238 - val_accuracy: 0.9660 - 110s/epoch - 2s/step\n",
      "16/16 [==============================] - 4s 260ms/step - loss: 0.2040 - accuracy: 0.9400\n"
     ]
    },
    {
     "name": "stderr",
     "output_type": "stream",
     "text": [
      "WARNING:absl:Found untraced functions such as _jit_compiled_convolution_op, _jit_compiled_convolution_op while saving (showing 2 of 2). These functions will not be directly callable after loading.\n"
     ]
    },
    {
     "name": "stdout",
     "output_type": "stream",
     "text": [
      "INFO:tensorflow:Assets written to: saved_models\\Model 1\\Run-11\\assets\n"
     ]
    },
    {
     "name": "stderr",
     "output_type": "stream",
     "text": [
      "INFO:tensorflow:Assets written to: saved_models\\Model 1\\Run-11\\assets\n"
     ]
    },
    {
     "name": "stdout",
     "output_type": "stream",
     "text": [
      "--- Starting trial: run-12\n",
      "{'filter_size': 7, 'filters_number': 128}\n",
      "Epoch 1/15\n",
      "16/16 [==============================] - 4s 270ms/step\n",
      "63/63 - 139s - loss: 0.4338 - accuracy: 0.7976 - val_loss: 0.2333 - val_accuracy: 0.9260 - 139s/epoch - 2s/step\n",
      "Epoch 2/15\n",
      "16/16 [==============================] - 4s 270ms/step\n",
      "63/63 - 138s - loss: 0.1717 - accuracy: 0.9448 - val_loss: 0.1956 - val_accuracy: 0.9500 - 138s/epoch - 2s/step\n",
      "Epoch 3/15\n",
      "16/16 [==============================] - 4s 275ms/step\n",
      "63/63 - 138s - loss: 0.1514 - accuracy: 0.9550 - val_loss: 0.1959 - val_accuracy: 0.9600 - 138s/epoch - 2s/step\n",
      "Epoch 4/15\n",
      "16/16 [==============================] - 4s 272ms/step\n",
      "63/63 - 141s - loss: 0.1453 - accuracy: 0.9570 - val_loss: 0.2171 - val_accuracy: 0.9340 - 141s/epoch - 2s/step\n",
      "16/16 [==============================] - 4s 258ms/step - loss: 0.1956 - accuracy: 0.9500\n"
     ]
    },
    {
     "name": "stderr",
     "output_type": "stream",
     "text": [
      "WARNING:absl:Found untraced functions such as _jit_compiled_convolution_op, _jit_compiled_convolution_op while saving (showing 2 of 2). These functions will not be directly callable after loading.\n"
     ]
    },
    {
     "name": "stdout",
     "output_type": "stream",
     "text": [
      "INFO:tensorflow:Assets written to: saved_models\\Model 1\\Run-12\\assets\n"
     ]
    },
    {
     "name": "stderr",
     "output_type": "stream",
     "text": [
      "INFO:tensorflow:Assets written to: saved_models\\Model 1\\Run-12\\assets\n"
     ]
    }
   ],
   "source": [
    "session_num = 1\n",
    "\n",
    "for filter_size in HP_FILTER_SIZE.domain.values:\n",
    "    for filter_num in HP_FILTER_NUM.domain.values:\n",
    "\n",
    "        hparams = {\n",
    "            HP_FILTER_SIZE: filter_size,\n",
    "            HP_FILTER_NUM: filter_num\n",
    "        }\n",
    "\n",
    "        run_name = \"run-%d\" % session_num\n",
    "        print('--- Starting trial: %s' % run_name)\n",
    "        print({h.name: hparams[h] for h in hparams})\n",
    "        run('Logs/Model 1/hparam_tuning/' + run_name, hparams, session_num)\n",
    "\n",
    "        session_num += 1"
   ]
  },
  {
   "cell_type": "code",
   "execution_count": null,
   "metadata": {},
   "outputs": [],
   "source": []
  },
  {
   "cell_type": "code",
   "execution_count": 11,
   "metadata": {},
   "outputs": [],
   "source": [
    "# Loading a model to evaluate on the test set\n",
    "model = tf.keras.models.load_model(r\"saved_models\\Model 1\\Run-1\")"
   ]
  },
  {
   "cell_type": "code",
   "execution_count": 12,
   "metadata": {},
   "outputs": [
    {
     "name": "stdout",
     "output_type": "stream",
     "text": [
      "16/16 [==============================] - 1s 50ms/step - loss: 0.1571 - accuracy: 0.9540\n"
     ]
    }
   ],
   "source": [
    "test_loss, test_accuracy = model.evaluate(images_test,labels_test)"
   ]
  },
  {
   "cell_type": "code",
   "execution_count": 13,
   "metadata": {},
   "outputs": [
    {
     "name": "stdout",
     "output_type": "stream",
     "text": [
      "Test loss: 0.1571. Test accuracy: 95.40%\n"
     ]
    }
   ],
   "source": [
    "# Printing the test results\n",
    "print('Test loss: {0:.4f}. Test accuracy: {1:.2f}%'.format(test_loss, test_accuracy*100.))"
   ]
  },
  {
   "cell_type": "code",
   "execution_count": null,
   "metadata": {},
   "outputs": [],
   "source": []
  },
  {
   "cell_type": "code",
   "execution_count": null,
   "metadata": {},
   "outputs": [],
   "source": []
  },
  {
   "cell_type": "code",
   "execution_count": null,
   "metadata": {},
   "outputs": [],
   "source": [
    "# %load_ext tensorboard\n",
    "# %tensorboard --logdir \"Logs/Model 1/hparam_tuning\""
   ]
  },
  {
   "cell_type": "code",
   "execution_count": null,
   "metadata": {},
   "outputs": [],
   "source": [
    "# %load_ext tensorboard\n",
    "# %tensorboard --logdir \"Logs/Model 1/fit\""
   ]
  },
  {
   "cell_type": "code",
   "execution_count": null,
   "metadata": {},
   "outputs": [],
   "source": []
  },
  {
   "cell_type": "code",
   "execution_count": null,
   "metadata": {},
   "outputs": [],
   "source": []
  },
  {
   "cell_type": "code",
   "execution_count": null,
   "metadata": {},
   "outputs": [],
   "source": []
  }
 ],
 "metadata": {
  "kernelspec": {
   "display_name": "Python 3 (ipykernel)",
   "language": "python",
   "name": "python3"
  },
  "language_info": {
   "codemirror_mode": {
    "name": "ipython",
    "version": 3
   },
   "file_extension": ".py",
   "mimetype": "text/x-python",
   "name": "python",
   "nbconvert_exporter": "python",
   "pygments_lexer": "ipython3",
   "version": "3.9.12"
  }
 },
 "nbformat": 4,
 "nbformat_minor": 2
}
